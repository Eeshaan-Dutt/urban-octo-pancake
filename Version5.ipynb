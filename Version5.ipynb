{
 "cells": [
  {
   "cell_type": "markdown",
   "metadata": {},
   "source": [
    "# HYPER PARAMETER OPTIMIZATION FOR 3 DATASETS"
   ]
  },
  {
   "cell_type": "markdown",
   "metadata": {},
   "source": [
    "### <font color='black'>Import the necessary libraries</font>"
   ]
  },
  {
   "cell_type": "code",
   "execution_count": 32,
   "metadata": {},
   "outputs": [],
   "source": [
    "import numpy as np\n",
    "import pandas as pd\n",
    "from sklearn.ensemble import RandomForestRegressor\n",
    "from sklearn import metrics\n",
    "from sklearn.model_selection import train_test_split\n",
    "import optuna\n",
    "import sklearn.svm\n",
    "from sklearn.model_selection import cross_val_score"
   ]
  },
  {
   "cell_type": "markdown",
   "metadata": {},
   "source": [
    "# Dataset No. 1\n",
    "\n",
    "- Dependent Parameters(Outputs): Tool Wear(Tw), Surface Roughness (Ra)\n",
    "- Independent Parameters(Inputs): Speed, Feed, Depth"
   ]
  },
  {
   "cell_type": "code",
   "execution_count": 33,
   "metadata": {},
   "outputs": [
    {
     "data": {
      "text/html": [
       "<div>\n",
       "<style scoped>\n",
       "    .dataframe tbody tr th:only-of-type {\n",
       "        vertical-align: middle;\n",
       "    }\n",
       "\n",
       "    .dataframe tbody tr th {\n",
       "        vertical-align: top;\n",
       "    }\n",
       "\n",
       "    .dataframe thead th {\n",
       "        text-align: right;\n",
       "    }\n",
       "</style>\n",
       "<table border=\"1\" class=\"dataframe\">\n",
       "  <thead>\n",
       "    <tr style=\"text-align: right;\">\n",
       "      <th></th>\n",
       "      <th>Speed m/min</th>\n",
       "      <th>Feed –fmm/rev\\n</th>\n",
       "      <th>Depth -mm</th>\n",
       "      <th>Ra -um</th>\n",
       "      <th>Tw -mm</th>\n",
       "      <th>MRR -mm3/min</th>\n",
       "    </tr>\n",
       "  </thead>\n",
       "  <tbody>\n",
       "    <tr>\n",
       "      <th>0</th>\n",
       "      <td>40</td>\n",
       "      <td>0.3</td>\n",
       "      <td>0.15</td>\n",
       "      <td>2.46</td>\n",
       "      <td>0.292</td>\n",
       "      <td>7690</td>\n",
       "    </tr>\n",
       "    <tr>\n",
       "      <th>1</th>\n",
       "      <td>40</td>\n",
       "      <td>0.2</td>\n",
       "      <td>0.60</td>\n",
       "      <td>2.52</td>\n",
       "      <td>0.288</td>\n",
       "      <td>8229</td>\n",
       "    </tr>\n",
       "    <tr>\n",
       "      <th>2</th>\n",
       "      <td>40</td>\n",
       "      <td>0.1</td>\n",
       "      <td>0.15</td>\n",
       "      <td>2.41</td>\n",
       "      <td>0.291</td>\n",
       "      <td>9230</td>\n",
       "    </tr>\n",
       "    <tr>\n",
       "      <th>3</th>\n",
       "      <td>40</td>\n",
       "      <td>0.2</td>\n",
       "      <td>0.15</td>\n",
       "      <td>2.48</td>\n",
       "      <td>0.291</td>\n",
       "      <td>5132</td>\n",
       "    </tr>\n",
       "    <tr>\n",
       "      <th>4</th>\n",
       "      <td>40</td>\n",
       "      <td>0.3</td>\n",
       "      <td>0.30</td>\n",
       "      <td>2.47</td>\n",
       "      <td>0.293</td>\n",
       "      <td>8229</td>\n",
       "    </tr>\n",
       "    <tr>\n",
       "      <th>...</th>\n",
       "      <td>...</td>\n",
       "      <td>...</td>\n",
       "      <td>...</td>\n",
       "      <td>...</td>\n",
       "      <td>...</td>\n",
       "      <td>...</td>\n",
       "    </tr>\n",
       "    <tr>\n",
       "      <th>814</th>\n",
       "      <td>100</td>\n",
       "      <td>0.1</td>\n",
       "      <td>0.45</td>\n",
       "      <td>2.37</td>\n",
       "      <td>0.291</td>\n",
       "      <td>8207</td>\n",
       "    </tr>\n",
       "    <tr>\n",
       "      <th>815</th>\n",
       "      <td>100</td>\n",
       "      <td>0.4</td>\n",
       "      <td>0.60</td>\n",
       "      <td>2.44</td>\n",
       "      <td>0.278</td>\n",
       "      <td>4628</td>\n",
       "    </tr>\n",
       "    <tr>\n",
       "      <th>816</th>\n",
       "      <td>100</td>\n",
       "      <td>0.3</td>\n",
       "      <td>0.15</td>\n",
       "      <td>2.47</td>\n",
       "      <td>0.281</td>\n",
       "      <td>4628</td>\n",
       "    </tr>\n",
       "    <tr>\n",
       "      <th>817</th>\n",
       "      <td>100</td>\n",
       "      <td>0.4</td>\n",
       "      <td>0.45</td>\n",
       "      <td>2.47</td>\n",
       "      <td>0.291</td>\n",
       "      <td>3077</td>\n",
       "    </tr>\n",
       "    <tr>\n",
       "      <th>818</th>\n",
       "      <td>100</td>\n",
       "      <td>0.2</td>\n",
       "      <td>0.15</td>\n",
       "      <td>2.48</td>\n",
       "      <td>0.278</td>\n",
       "      <td>3080</td>\n",
       "    </tr>\n",
       "  </tbody>\n",
       "</table>\n",
       "<p>819 rows × 6 columns</p>\n",
       "</div>"
      ],
      "text/plain": [
       "     Speed m/min   Feed –fmm/rev\\n  Depth -mm  Ra -um  Tw -mm  MRR -mm3/min\n",
       "0              40              0.3       0.15    2.46   0.292          7690\n",
       "1              40              0.2       0.60    2.52   0.288          8229\n",
       "2              40              0.1       0.15    2.41   0.291          9230\n",
       "3              40              0.2       0.15    2.48   0.291          5132\n",
       "4              40              0.3       0.30    2.47   0.293          8229\n",
       "..            ...              ...        ...     ...     ...           ...\n",
       "814           100              0.1       0.45    2.37   0.291          8207\n",
       "815           100              0.4       0.60    2.44   0.278          4628\n",
       "816           100              0.3       0.15    2.47   0.281          4628\n",
       "817           100              0.4       0.45    2.47   0.291          3077\n",
       "818           100              0.2       0.15    2.48   0.278          3080\n",
       "\n",
       "[819 rows x 6 columns]"
      ]
     },
     "execution_count": 33,
     "metadata": {},
     "output_type": "execute_result"
    }
   ],
   "source": [
    "df = pd.read_csv('Table1.csv')\n",
    "df"
   ]
  },
  {
   "cell_type": "code",
   "execution_count": 34,
   "metadata": {},
   "outputs": [
    {
     "name": "stdout",
     "output_type": "stream",
     "text": [
      "<class 'pandas.core.frame.DataFrame'>\n",
      "RangeIndex: 819 entries, 0 to 818\n",
      "Data columns (total 6 columns):\n",
      " #   Column          Non-Null Count  Dtype  \n",
      "---  ------          --------------  -----  \n",
      " 0   Speed m/min     819 non-null    int64  \n",
      " 1   Feed –fmm/rev\n",
      "  819 non-null    float64\n",
      " 2   Depth -mm       819 non-null    float64\n",
      " 3   Ra -um          819 non-null    float64\n",
      " 4   Tw -mm          819 non-null    float64\n",
      " 5   MRR -mm3/min    819 non-null    int64  \n",
      "dtypes: float64(4), int64(2)\n",
      "memory usage: 38.5 KB\n"
     ]
    }
   ],
   "source": [
    "df.info()"
   ]
  },
  {
   "cell_type": "code",
   "execution_count": 35,
   "metadata": {},
   "outputs": [
    {
     "data": {
      "text/html": [
       "<div>\n",
       "<style scoped>\n",
       "    .dataframe tbody tr th:only-of-type {\n",
       "        vertical-align: middle;\n",
       "    }\n",
       "\n",
       "    .dataframe tbody tr th {\n",
       "        vertical-align: top;\n",
       "    }\n",
       "\n",
       "    .dataframe thead th {\n",
       "        text-align: right;\n",
       "    }\n",
       "</style>\n",
       "<table border=\"1\" class=\"dataframe\">\n",
       "  <thead>\n",
       "    <tr style=\"text-align: right;\">\n",
       "      <th></th>\n",
       "      <th>Speed m/min</th>\n",
       "      <th>Feed –fmm/rev\\n</th>\n",
       "      <th>Depth -mm</th>\n",
       "      <th>Ra -um</th>\n",
       "      <th>Tw -mm</th>\n",
       "      <th>MRR -mm3/min</th>\n",
       "    </tr>\n",
       "  </thead>\n",
       "  <tbody>\n",
       "    <tr>\n",
       "      <th>count</th>\n",
       "      <td>819.000000</td>\n",
       "      <td>819.000000</td>\n",
       "      <td>819.000000</td>\n",
       "      <td>819.000000</td>\n",
       "      <td>819.000000</td>\n",
       "      <td>819.000000</td>\n",
       "    </tr>\n",
       "    <tr>\n",
       "      <th>mean</th>\n",
       "      <td>70.183150</td>\n",
       "      <td>0.249328</td>\n",
       "      <td>0.374908</td>\n",
       "      <td>2.501600</td>\n",
       "      <td>0.285932</td>\n",
       "      <td>5458.857143</td>\n",
       "    </tr>\n",
       "    <tr>\n",
       "      <th>std</th>\n",
       "      <td>22.318886</td>\n",
       "      <td>0.111047</td>\n",
       "      <td>0.161373</td>\n",
       "      <td>0.165374</td>\n",
       "      <td>0.005221</td>\n",
       "      <td>3089.406208</td>\n",
       "    </tr>\n",
       "    <tr>\n",
       "      <th>min</th>\n",
       "      <td>40.000000</td>\n",
       "      <td>0.100000</td>\n",
       "      <td>0.150000</td>\n",
       "      <td>2.170000</td>\n",
       "      <td>0.278000</td>\n",
       "      <td>515.000000</td>\n",
       "    </tr>\n",
       "    <tr>\n",
       "      <th>25%</th>\n",
       "      <td>60.000000</td>\n",
       "      <td>0.200000</td>\n",
       "      <td>0.300000</td>\n",
       "      <td>2.410000</td>\n",
       "      <td>0.281000</td>\n",
       "      <td>2057.000000</td>\n",
       "    </tr>\n",
       "    <tr>\n",
       "      <th>50%</th>\n",
       "      <td>80.000000</td>\n",
       "      <td>0.200000</td>\n",
       "      <td>0.450000</td>\n",
       "      <td>2.470000</td>\n",
       "      <td>0.286000</td>\n",
       "      <td>5132.000000</td>\n",
       "    </tr>\n",
       "    <tr>\n",
       "      <th>75%</th>\n",
       "      <td>100.000000</td>\n",
       "      <td>0.300000</td>\n",
       "      <td>0.450000</td>\n",
       "      <td>2.520000</td>\n",
       "      <td>0.291000</td>\n",
       "      <td>8207.000000</td>\n",
       "    </tr>\n",
       "    <tr>\n",
       "      <th>max</th>\n",
       "      <td>100.000000</td>\n",
       "      <td>0.400000</td>\n",
       "      <td>0.600000</td>\n",
       "      <td>2.880000</td>\n",
       "      <td>0.293000</td>\n",
       "      <td>9230.000000</td>\n",
       "    </tr>\n",
       "  </tbody>\n",
       "</table>\n",
       "</div>"
      ],
      "text/plain": [
       "       Speed m/min   Feed –fmm/rev\\n   Depth -mm      Ra -um      Tw -mm  \\\n",
       "count    819.000000       819.000000  819.000000  819.000000  819.000000   \n",
       "mean      70.183150         0.249328    0.374908    2.501600    0.285932   \n",
       "std       22.318886         0.111047    0.161373    0.165374    0.005221   \n",
       "min       40.000000         0.100000    0.150000    2.170000    0.278000   \n",
       "25%       60.000000         0.200000    0.300000    2.410000    0.281000   \n",
       "50%       80.000000         0.200000    0.450000    2.470000    0.286000   \n",
       "75%      100.000000         0.300000    0.450000    2.520000    0.291000   \n",
       "max      100.000000         0.400000    0.600000    2.880000    0.293000   \n",
       "\n",
       "       MRR -mm3/min  \n",
       "count    819.000000  \n",
       "mean    5458.857143  \n",
       "std     3089.406208  \n",
       "min      515.000000  \n",
       "25%     2057.000000  \n",
       "50%     5132.000000  \n",
       "75%     8207.000000  \n",
       "max     9230.000000  "
      ]
     },
     "execution_count": 35,
     "metadata": {},
     "output_type": "execute_result"
    }
   ],
   "source": [
    "df.describe()"
   ]
  },
  {
   "cell_type": "markdown",
   "metadata": {},
   "source": [
    "### Initialising the Variables as Dependent or Independent features from the Datasets\n",
    "\n",
    "- X refers to Independent Features\n",
    "\n",
    "- Y referes to Dependent Features"
   ]
  },
  {
   "cell_type": "code",
   "execution_count": 36,
   "metadata": {},
   "outputs": [
    {
     "name": "stdout",
     "output_type": "stream",
     "text": [
      "[[ 40.     0.3    0.15]\n",
      " [ 40.     0.2    0.6 ]\n",
      " [ 40.     0.1    0.15]\n",
      " ...\n",
      " [100.     0.3    0.15]\n",
      " [100.     0.4    0.45]\n",
      " [100.     0.2    0.15]]\n"
     ]
    }
   ],
   "source": [
    "X = np.array(df.iloc[:,:-3])\n",
    "print(X)"
   ]
  },
  {
   "cell_type": "code",
   "execution_count": 37,
   "metadata": {},
   "outputs": [
    {
     "name": "stdout",
     "output_type": "stream",
     "text": [
      "[[0.292 2.46 ]\n",
      " [0.288 2.52 ]\n",
      " [0.291 2.41 ]\n",
      " ...\n",
      " [0.281 2.47 ]\n",
      " [0.291 2.47 ]\n",
      " [0.278 2.48 ]]\n"
     ]
    }
   ],
   "source": [
    "Y = np.array(df.iloc[:,[-2,-3]])\n",
    "print(Y)"
   ]
  },
  {
   "cell_type": "markdown",
   "metadata": {},
   "source": [
    "## <font color='blue'>Regression without Optimization for Dataset 1 </font> "
   ]
  },
  {
   "cell_type": "code",
   "execution_count": 46,
   "metadata": {},
   "outputs": [],
   "source": [
    "X_train,X_test,Y_train,Y_test=train_test_split(X,Y,test_size=0.20,random_state=0)"
   ]
  },
  {
   "cell_type": "code",
   "execution_count": 57,
   "metadata": {},
   "outputs": [
    {
     "data": {
      "text/plain": [
       "RandomForestRegressor(bootstrap='True', max_depth=1659, max_features='log2',\n",
       "                      max_leaf_nodes=3, n_estimators=322, n_jobs=2)"
      ]
     },
     "execution_count": 57,
     "metadata": {},
     "output_type": "execute_result"
    }
   ],
   "source": [
    "model = RandomForestRegressor(bootstrap='True', max_depth=1659, max_features='log2',\n",
    "                      max_leaf_nodes=3, n_estimators=322, n_jobs=2)\n",
    "model.fit(X_train, Y_train)"
   ]
  },
  {
   "cell_type": "code",
   "execution_count": 58,
   "metadata": {},
   "outputs": [],
   "source": [
    "model = RandomForestRegressor(n_estimators=100).fit(X_train,Y_train)\n",
    "prediction = model.predict(X_test)"
   ]
  },
  {
   "cell_type": "code",
   "execution_count": 59,
   "metadata": {},
   "outputs": [],
   "source": [
    "Y_pred = model.predict(X_test)"
   ]
  },
  {
   "cell_type": "code",
   "execution_count": 60,
   "metadata": {},
   "outputs": [
    {
     "data": {
      "text/html": [
       "<div>\n",
       "<style scoped>\n",
       "    .dataframe tbody tr th:only-of-type {\n",
       "        vertical-align: middle;\n",
       "    }\n",
       "\n",
       "    .dataframe tbody tr th {\n",
       "        vertical-align: top;\n",
       "    }\n",
       "\n",
       "    .dataframe thead th {\n",
       "        text-align: right;\n",
       "    }\n",
       "</style>\n",
       "<table border=\"1\" class=\"dataframe\">\n",
       "  <thead>\n",
       "    <tr style=\"text-align: right;\">\n",
       "      <th></th>\n",
       "      <th>Actual</th>\n",
       "      <th>Predicted</th>\n",
       "    </tr>\n",
       "  </thead>\n",
       "  <tbody>\n",
       "    <tr>\n",
       "      <th>0</th>\n",
       "      <td>[[0.29100000000000004, 2.47], [0.284, 2.44], [...</td>\n",
       "      <td>[[0.2829793202703729, 2.475091968178021], [0.2...</td>\n",
       "    </tr>\n",
       "  </tbody>\n",
       "</table>\n",
       "</div>"
      ],
      "text/plain": [
       "                                              Actual  \\\n",
       "0  [[0.29100000000000004, 2.47], [0.284, 2.44], [...   \n",
       "\n",
       "                                           Predicted  \n",
       "0  [[0.2829793202703729, 2.475091968178021], [0.2...  "
      ]
     },
     "execution_count": 60,
     "metadata": {},
     "output_type": "execute_result"
    }
   ],
   "source": [
    "df=pd.DataFrame({'Actual':[Y_test], 'Predicted':[Y_pred]})\n",
    "df"
   ]
  },
  {
   "cell_type": "code",
   "execution_count": 61,
   "metadata": {},
   "outputs": [],
   "source": [
    "MAE1 = metrics.mean_absolute_error(Y_test, Y_pred)\n",
    "MSE1 = metrics.mean_squared_error(Y_test, Y_pred)\n",
    "RMSE1 = np.sqrt(metrics.mean_squared_error(Y_test, Y_pred))"
   ]
  },
  {
   "cell_type": "markdown",
   "metadata": {},
   "source": [
    "### Accuracy and Mean absolute Error (without Optimization)"
   ]
  },
  {
   "cell_type": "code",
   "execution_count": 62,
   "metadata": {},
   "outputs": [
    {
     "name": "stdout",
     "output_type": "stream",
     "text": [
      "Mean Absolute Error: 0.0635\n",
      "Accuracy: 96.77\n"
     ]
    }
   ],
   "source": [
    "errors1 = abs(Y_pred - Y_test)\n",
    "print('Mean Absolute Error:', round(np.mean(errors1), 4))\n",
    "mape1 = 100 * (errors1 / Y_test)\n",
    "accuracy1 = 100 - np.mean(mape1)\n",
    "print('Accuracy:', round(accuracy1, 2))"
   ]
  },
  {
   "cell_type": "markdown",
   "metadata": {},
   "source": [
    "## <font color='blue'>Hyperparameter Optimization using Optuna Algorithm for Dataset 1</font>\n",
    "\n",
    "Testing for best parameters using 1000 different combination of parameters such as \n",
    "1. Estimators \n",
    "2. Categorical features (MSE or MAE) \n",
    "3. Bootstrap value\n",
    "4. Maximum Features \n",
    "5. Maximum Leaf Nodes"
   ]
  },
  {
   "cell_type": "code",
   "execution_count": 87,
   "metadata": {},
   "outputs": [],
   "source": [
    "def objective(trial):\n",
    "    criterion = trial.suggest_categorical('criterion', ['mse', 'mae'])\n",
    "    bootstrap = trial.suggest_categorical('bootstrap',['True','False'])\n",
    "    max_depth = trial.suggest_int('max_depth', 1, 10000)\n",
    "    max_features = trial.suggest_categorical('max_features', ['auto', 'sqrt','log2'])\n",
    "    max_leaf_nodes = trial.suggest_int('max_leaf_nodes', 1, 10000)\n",
    "    n_estimators =  trial.suggest_int('n_estimators', 30, 1000)\n",
    "    model = RandomForestRegressor(bootstrap = bootstrap, criterion = criterion,\n",
    "                                 max_depth = max_depth, max_features = max_features,\n",
    "                                 max_leaf_nodes = max_leaf_nodes,n_estimators = n_estimators,n_jobs=2)\n",
    "    score = cross_val_score(model, X_train, Y_train, cv=5, scoring=\"r2\")\n",
    "    r2_mean = score.mean()\n",
    "    return r2_mean"
   ]
  },
  {
   "cell_type": "markdown",
   "metadata": {},
   "source": [
    "### Splitting of Dataset into Train and Test Dataset\n",
    "\n",
    "- Proportion of Test:Train data = 20:80\n",
    "\n",
    "- Initialising the Variables such as X_test, X_train, Y_test, Y_train\n",
    "\n",
    "- These Values are useful later for making predictions and giving accuracy"
   ]
  },
  {
   "cell_type": "code",
   "execution_count": 88,
   "metadata": {},
   "outputs": [],
   "source": [
    "from sklearn.model_selection import train_test_split\n",
    "X_train,X_test,Y_train,Y_test=train_test_split(X,Y,test_size=0.20,random_state=0)"
   ]
  },
  {
   "cell_type": "markdown",
   "metadata": {},
   "source": [
    "### Actual Hyperparameter Optimization cell\n",
    "- Based on Number of Trials (1000 here), using several different combination of parameters, the below Optimization\n",
    "  algorithm tests and predicts the best possible parameters for the used Regression Model in order to yield Maximum\n",
    "  accuracy.\n",
    "- Takes 1000 iterations/ trials to figure out best set of parameters for our Regression Model\n",
    "- n_trials is directly proportional to the accuracy of the model"
   ]
  },
  {
   "cell_type": "code",
   "execution_count": 89,
   "metadata": {},
   "outputs": [
    {
     "name": "stderr",
     "output_type": "stream",
     "text": [
      "\u001b[32m[I 2021-05-08 21:47:35,274]\u001b[0m A new study created in memory with name: no-name-e08aeced-cf4c-4ceb-ab9d-efc4a08fd703\u001b[0m\n",
      "\u001b[32m[I 2021-05-08 21:47:37,988]\u001b[0m Trial 0 finished with value: -0.1429302646778886 and parameters: {'criterion': 'mse', 'bootstrap': 'True', 'max_depth': 2530, 'max_features': 'log2', 'max_leaf_nodes': 4465, 'n_estimators': 255}. Best is trial 0 with value: -0.1429302646778886.\u001b[0m\n",
      "\u001b[32m[I 2021-05-08 21:47:40,301]\u001b[0m Trial 1 finished with value: -0.143324234638077 and parameters: {'criterion': 'mse', 'bootstrap': 'False', 'max_depth': 7318, 'max_features': 'sqrt', 'max_leaf_nodes': 7055, 'n_estimators': 440}. Best is trial 0 with value: -0.1429302646778886.\u001b[0m\n",
      "\u001b[32m[I 2021-05-08 21:47:46,394]\u001b[0m Trial 2 finished with value: -0.0991657888339514 and parameters: {'criterion': 'mae', 'bootstrap': 'False', 'max_depth': 4446, 'max_features': 'sqrt', 'max_leaf_nodes': 4131, 'n_estimators': 605}. Best is trial 2 with value: -0.0991657888339514.\u001b[0m\n",
      "\u001b[32m[I 2021-05-08 21:47:50,349]\u001b[0m Trial 3 finished with value: -0.14137917710614775 and parameters: {'criterion': 'mse', 'bootstrap': 'True', 'max_depth': 9302, 'max_features': 'auto', 'max_leaf_nodes': 6944, 'n_estimators': 764}. Best is trial 2 with value: -0.0991657888339514.\u001b[0m\n",
      "\u001b[32m[I 2021-05-08 21:47:51,595]\u001b[0m Trial 4 finished with value: -0.14089511244745942 and parameters: {'criterion': 'mse', 'bootstrap': 'False', 'max_depth': 9135, 'max_features': 'log2', 'max_leaf_nodes': 9134, 'n_estimators': 216}. Best is trial 2 with value: -0.0991657888339514.\u001b[0m\n",
      "\u001b[32m[I 2021-05-08 21:47:53,624]\u001b[0m Trial 5 finished with value: -0.14478429128649056 and parameters: {'criterion': 'mse', 'bootstrap': 'False', 'max_depth': 1779, 'max_features': 'auto', 'max_leaf_nodes': 3088, 'n_estimators': 384}. Best is trial 2 with value: -0.0991657888339514.\u001b[0m\n",
      "\u001b[32m[I 2021-05-08 21:47:55,850]\u001b[0m Trial 6 finished with value: -0.12829254372721796 and parameters: {'criterion': 'mae', 'bootstrap': 'True', 'max_depth': 7163, 'max_features': 'auto', 'max_leaf_nodes': 4959, 'n_estimators': 149}. Best is trial 2 with value: -0.0991657888339514.\u001b[0m\n",
      "\u001b[32m[I 2021-05-08 21:47:57,991]\u001b[0m Trial 7 finished with value: -0.14344440951539367 and parameters: {'criterion': 'mse', 'bootstrap': 'True', 'max_depth': 6810, 'max_features': 'auto', 'max_leaf_nodes': 6755, 'n_estimators': 333}. Best is trial 2 with value: -0.0991657888339514.\u001b[0m\n",
      "\u001b[32m[I 2021-05-08 21:48:00,535]\u001b[0m Trial 8 finished with value: -0.1440725571849178 and parameters: {'criterion': 'mse', 'bootstrap': 'False', 'max_depth': 4602, 'max_features': 'auto', 'max_leaf_nodes': 2649, 'n_estimators': 451}. Best is trial 2 with value: -0.0991657888339514.\u001b[0m\n",
      "\u001b[32m[I 2021-05-08 21:48:03,377]\u001b[0m Trial 9 finished with value: -0.14265227887299617 and parameters: {'criterion': 'mse', 'bootstrap': 'False', 'max_depth': 4333, 'max_features': 'sqrt', 'max_leaf_nodes': 1126, 'n_estimators': 582}. Best is trial 2 with value: -0.0991657888339514.\u001b[0m\n"
     ]
    },
    {
     "data": {
      "text/plain": [
       "RandomForestRegressor(bootstrap='False', criterion='mae', max_depth=4446,\n",
       "                      max_features='sqrt', max_leaf_nodes=4131,\n",
       "                      n_estimators=605, n_jobs=2)"
      ]
     },
     "execution_count": 89,
     "metadata": {},
     "output_type": "execute_result"
    }
   ],
   "source": [
    "study = optuna.create_study(direction='maximize')\n",
    "study.optimize(objective, n_trials=10)\n",
    "optimised_model1 = RandomForestRegressor(bootstrap = study.best_params['bootstrap'], criterion = study.best_params['criterion'],\n",
    "                                     max_depth = study.best_params['max_depth'], max_features = study.best_params['max_features'],\n",
    "                                     max_leaf_nodes = study.best_params['max_leaf_nodes'],n_estimators = study.best_params['n_estimators'],\n",
    "                                     n_jobs=2)\n",
    "optimised_model1.fit(X_train ,Y_train)"
   ]
  },
  {
   "cell_type": "markdown",
   "metadata": {},
   "source": [
    "### Prediction for Model with Optimized Parameters\n",
    "After Optimization, the model predicts the Dependent Features values based on Testing and Training data"
   ]
  },
  {
   "cell_type": "code",
   "execution_count": 131,
   "metadata": {},
   "outputs": [],
   "source": [
    "Y_pred = optimised_model1.predict(X_test)"
   ]
  },
  {
   "cell_type": "markdown",
   "metadata": {},
   "source": [
    "### Plotting the Data in statistical format (Actual v/s Predicted)\n",
    "The Data gets plotted in an array format, with each coloumn representing the (Actual v/s Predicted) values made by the regression model itself"
   ]
  },
  {
   "cell_type": "code",
   "execution_count": 132,
   "metadata": {
    "scrolled": true
   },
   "outputs": [
    {
     "data": {
      "text/html": [
       "<div>\n",
       "<style scoped>\n",
       "    .dataframe tbody tr th:only-of-type {\n",
       "        vertical-align: middle;\n",
       "    }\n",
       "\n",
       "    .dataframe tbody tr th {\n",
       "        vertical-align: top;\n",
       "    }\n",
       "\n",
       "    .dataframe thead th {\n",
       "        text-align: right;\n",
       "    }\n",
       "</style>\n",
       "<table border=\"1\" class=\"dataframe\">\n",
       "  <thead>\n",
       "    <tr style=\"text-align: right;\">\n",
       "      <th></th>\n",
       "      <th>Actual</th>\n",
       "      <th>Predicted</th>\n",
       "    </tr>\n",
       "  </thead>\n",
       "  <tbody>\n",
       "    <tr>\n",
       "      <th>0</th>\n",
       "      <td>[[0.29100000000000004, 2.47], [0.284, 2.44], [...</td>\n",
       "      <td>[[0.28344628099173597, 2.4698429752066264], [0...</td>\n",
       "    </tr>\n",
       "  </tbody>\n",
       "</table>\n",
       "</div>"
      ],
      "text/plain": [
       "                                              Actual  \\\n",
       "0  [[0.29100000000000004, 2.47], [0.284, 2.44], [...   \n",
       "\n",
       "                                           Predicted  \n",
       "0  [[0.28344628099173597, 2.4698429752066264], [0...  "
      ]
     },
     "execution_count": 132,
     "metadata": {},
     "output_type": "execute_result"
    }
   ],
   "source": [
    "d=pd.DataFrame({'Actual':[Y_test], 'Predicted':[Y_pred]})\n",
    "d"
   ]
  },
  {
   "cell_type": "code",
   "execution_count": 133,
   "metadata": {},
   "outputs": [],
   "source": [
    "MAE_opt1 = metrics.mean_absolute_error(Y_test, Y_pred)\n",
    "MSE_opt1 = metrics.mean_squared_error(Y_test, Y_pred)\n",
    "RMSE_opt1 = np.sqrt(metrics.mean_squared_error(Y_test, Y_pred))"
   ]
  },
  {
   "cell_type": "markdown",
   "metadata": {},
   "source": [
    "### Prediction of Accuracy and Mean Absolute Percentage Error\n",
    "Using the statistical Data, (Actual v/s Predicted), Mean Absolute Error (MAE) and Mean Absolute Percentage Error (MAPE) are figured, on basis of which, Accuracy is predicted."
   ]
  },
  {
   "cell_type": "code",
   "execution_count": 134,
   "metadata": {},
   "outputs": [
    {
     "name": "stdout",
     "output_type": "stream",
     "text": [
      "Mean Absolute Error: 0.0592\n",
      "Accuracy: 96.95\n"
     ]
    }
   ],
   "source": [
    "errors_opt1 = abs(Y_pred - Y_test)\n",
    "print('Mean Absolute Error:', round(np.mean(errors_opt1), 4))\n",
    "mape_opt1 = 100 * (errors_opt1 / Y_test)\n",
    "accuracy_opt1 = 100 - np.mean(mape_opt1)\n",
    "print('Accuracy:', round(accuracy_opt1, 2))"
   ]
  },
  {
   "cell_type": "markdown",
   "metadata": {},
   "source": [
    "# Dataset No. 2\n",
    "\n",
    "Independent Features (A): \n",
    "1. Speed\n",
    "2. Feed\n",
    "3. Depth\n",
    "4. Tangential Force (Ft)\n",
    "5. Axial Force (Fa)\n",
    "\n",
    "Dependent Features (B): \n",
    "1. Beta \n",
    "2. Roughness of Surface (Ra) \n",
    "3. Metal Removal Rate (MRR)\n"
   ]
  },
  {
   "cell_type": "code",
   "execution_count": 15,
   "metadata": {},
   "outputs": [
    {
     "name": "stdout",
     "output_type": "stream",
     "text": [
      "     Speed m/min   Feed f mm/rev\\n  Depth -mm  Ft - N  Fa - N     Beta  \\\n",
      "0              50              0.10       0.15     252     147  6822.22   \n",
      "1              50              0.25       0.45     269     179  4483.33   \n",
      "2              50              0.20       0.60     318     154  3166.67   \n",
      "3              50              0.15       0.15     314     184  4433.33   \n",
      "4              50              0.25       0.30     306     179  8200.00   \n",
      "..            ...               ...        ...     ...     ...      ...   \n",
      "814           110              0.25       0.30     317     147  3166.67   \n",
      "815           110              0.20       0.45     307     147  3166.67   \n",
      "816           110              0.15       0.60     273     149  8200.00   \n",
      "817           110              0.15       0.45     281     157  4044.44   \n",
      "818           110              0.25       0.60     306     179  2826.67   \n",
      "\n",
      "        Ra         MRR  \n",
      "0    1.310  2121.42857  \n",
      "1    2.000  3535.71429  \n",
      "2    3.260  6600.00000  \n",
      "3    1.128  5185.71429  \n",
      "4    1.560  1767.85714  \n",
      "..     ...         ...  \n",
      "814  1.518  2121.42857  \n",
      "815  1.850  3241.07143  \n",
      "816  2.000  1767.85714  \n",
      "817  1.518  1650.00000  \n",
      "818  1.800  6364.28571  \n",
      "\n",
      "[819 rows x 8 columns]\n"
     ]
    }
   ],
   "source": [
    "d = pd.read_csv('Table2.csv', header= 0,encoding= 'unicode_escape')\n",
    "print(d)"
   ]
  },
  {
   "cell_type": "code",
   "execution_count": 16,
   "metadata": {},
   "outputs": [
    {
     "name": "stdout",
     "output_type": "stream",
     "text": [
      "<class 'pandas.core.frame.DataFrame'>\n",
      "RangeIndex: 819 entries, 0 to 818\n",
      "Data columns (total 8 columns):\n",
      " #   Column           Non-Null Count  Dtype  \n",
      "---  ------           --------------  -----  \n",
      " 0   Speed m/min      819 non-null    int64  \n",
      " 1   Feed f mm/rev\n",
      "  819 non-null    float64\n",
      " 2   Depth -mm        819 non-null    float64\n",
      " 3   Ft - N           819 non-null    int64  \n",
      " 4   Fa - N           819 non-null    int64  \n",
      " 5   Beta             819 non-null    float64\n",
      " 6   Ra               819 non-null    float64\n",
      " 7   MRR              819 non-null    float64\n",
      "dtypes: float64(5), int64(3)\n",
      "memory usage: 51.3 KB\n"
     ]
    }
   ],
   "source": [
    "d.info()"
   ]
  },
  {
   "cell_type": "code",
   "execution_count": 17,
   "metadata": {},
   "outputs": [
    {
     "data": {
      "text/html": [
       "<div>\n",
       "<style scoped>\n",
       "    .dataframe tbody tr th:only-of-type {\n",
       "        vertical-align: middle;\n",
       "    }\n",
       "\n",
       "    .dataframe tbody tr th {\n",
       "        vertical-align: top;\n",
       "    }\n",
       "\n",
       "    .dataframe thead th {\n",
       "        text-align: right;\n",
       "    }\n",
       "</style>\n",
       "<table border=\"1\" class=\"dataframe\">\n",
       "  <thead>\n",
       "    <tr style=\"text-align: right;\">\n",
       "      <th></th>\n",
       "      <th>Speed m/min</th>\n",
       "      <th>Feed f mm/rev\\n</th>\n",
       "      <th>Depth -mm</th>\n",
       "      <th>Ft - N</th>\n",
       "      <th>Fa - N</th>\n",
       "      <th>Beta</th>\n",
       "      <th>Ra</th>\n",
       "      <th>MRR</th>\n",
       "    </tr>\n",
       "  </thead>\n",
       "  <tbody>\n",
       "    <tr>\n",
       "      <th>count</th>\n",
       "      <td>819.000000</td>\n",
       "      <td>819.000000</td>\n",
       "      <td>819.000000</td>\n",
       "      <td>819.000000</td>\n",
       "      <td>819.000000</td>\n",
       "      <td>819.000000</td>\n",
       "      <td>819.000000</td>\n",
       "      <td>819.000000</td>\n",
       "    </tr>\n",
       "    <tr>\n",
       "      <th>mean</th>\n",
       "      <td>80.183150</td>\n",
       "      <td>0.176618</td>\n",
       "      <td>0.370330</td>\n",
       "      <td>283.070818</td>\n",
       "      <td>161.487179</td>\n",
       "      <td>6106.536691</td>\n",
       "      <td>1.759739</td>\n",
       "      <td>3929.722659</td>\n",
       "    </tr>\n",
       "    <tr>\n",
       "      <th>std</th>\n",
       "      <td>22.318886</td>\n",
       "      <td>0.056321</td>\n",
       "      <td>0.172512</td>\n",
       "      <td>23.286614</td>\n",
       "      <td>14.771885</td>\n",
       "      <td>3684.475698</td>\n",
       "      <td>0.581777</td>\n",
       "      <td>2007.096535</td>\n",
       "    </tr>\n",
       "    <tr>\n",
       "      <th>min</th>\n",
       "      <td>50.000000</td>\n",
       "      <td>0.100000</td>\n",
       "      <td>0.150000</td>\n",
       "      <td>246.000000</td>\n",
       "      <td>136.000000</td>\n",
       "      <td>2113.330000</td>\n",
       "      <td>1.020000</td>\n",
       "      <td>589.285714</td>\n",
       "    </tr>\n",
       "    <tr>\n",
       "      <th>25%</th>\n",
       "      <td>70.000000</td>\n",
       "      <td>0.100000</td>\n",
       "      <td>0.150000</td>\n",
       "      <td>266.000000</td>\n",
       "      <td>147.000000</td>\n",
       "      <td>3211.110000</td>\n",
       "      <td>1.410000</td>\n",
       "      <td>1767.857140</td>\n",
       "    </tr>\n",
       "    <tr>\n",
       "      <th>50%</th>\n",
       "      <td>90.000000</td>\n",
       "      <td>0.200000</td>\n",
       "      <td>0.300000</td>\n",
       "      <td>274.000000</td>\n",
       "      <td>157.000000</td>\n",
       "      <td>4483.330000</td>\n",
       "      <td>1.730000</td>\n",
       "      <td>3535.714290</td>\n",
       "    </tr>\n",
       "    <tr>\n",
       "      <th>75%</th>\n",
       "      <td>110.000000</td>\n",
       "      <td>0.250000</td>\n",
       "      <td>0.600000</td>\n",
       "      <td>307.000000</td>\n",
       "      <td>173.000000</td>\n",
       "      <td>7493.330000</td>\n",
       "      <td>1.880000</td>\n",
       "      <td>5833.928570</td>\n",
       "    </tr>\n",
       "    <tr>\n",
       "      <th>max</th>\n",
       "      <td>110.000000</td>\n",
       "      <td>0.250000</td>\n",
       "      <td>0.600000</td>\n",
       "      <td>318.000000</td>\n",
       "      <td>185.000000</td>\n",
       "      <td>16800.000000</td>\n",
       "      <td>3.260000</td>\n",
       "      <td>6600.000000</td>\n",
       "    </tr>\n",
       "  </tbody>\n",
       "</table>\n",
       "</div>"
      ],
      "text/plain": [
       "       Speed m/min   Feed f mm/rev\\n   Depth -mm      Ft - N      Fa - N  \\\n",
       "count    819.000000        819.000000  819.000000  819.000000  819.000000   \n",
       "mean      80.183150          0.176618    0.370330  283.070818  161.487179   \n",
       "std       22.318886          0.056321    0.172512   23.286614   14.771885   \n",
       "min       50.000000          0.100000    0.150000  246.000000  136.000000   \n",
       "25%       70.000000          0.100000    0.150000  266.000000  147.000000   \n",
       "50%       90.000000          0.200000    0.300000  274.000000  157.000000   \n",
       "75%      110.000000          0.250000    0.600000  307.000000  173.000000   \n",
       "max      110.000000          0.250000    0.600000  318.000000  185.000000   \n",
       "\n",
       "               Beta          Ra          MRR  \n",
       "count    819.000000  819.000000   819.000000  \n",
       "mean    6106.536691    1.759739  3929.722659  \n",
       "std     3684.475698    0.581777  2007.096535  \n",
       "min     2113.330000    1.020000   589.285714  \n",
       "25%     3211.110000    1.410000  1767.857140  \n",
       "50%     4483.330000    1.730000  3535.714290  \n",
       "75%     7493.330000    1.880000  5833.928570  \n",
       "max    16800.000000    3.260000  6600.000000  "
      ]
     },
     "execution_count": 17,
     "metadata": {},
     "output_type": "execute_result"
    }
   ],
   "source": [
    "d.describe()"
   ]
  },
  {
   "cell_type": "markdown",
   "metadata": {},
   "source": [
    "### Scaling of Data\n",
    "Since some features (Beta, Metal Removal Rate (MRR)) are notably huge as compared to other parameters(Roughness of Surface(Ra)), scaling of data is required in order to reduce the scope of errors and maintain uniformity in scale of Data\n",
    "\n",
    "The Scaling of data has been done using log function"
   ]
  },
  {
   "cell_type": "code",
   "execution_count": 18,
   "metadata": {},
   "outputs": [],
   "source": [
    "d['Beta_log'] = np.log(d.Beta + 0.01)\n",
    "d['MRR_log'] = np.log(d.MRR + 0.01)"
   ]
  },
  {
   "cell_type": "markdown",
   "metadata": {},
   "source": [
    "### Declaration of Variables as Dependent (B) or Independent Features (A)\n",
    "\n",
    "Since the Model uses Multi-Input Multi-Output System, declaration of the features in array format is neccessary, hence all the features (Dependent or Independent) have been defined in array format before being operated on."
   ]
  },
  {
   "cell_type": "code",
   "execution_count": 19,
   "metadata": {},
   "outputs": [
    {
     "name": "stdout",
     "output_type": "stream",
     "text": [
      "[[5.00000e+01 1.00000e-01 1.50000e-01 ... 1.47000e+02 6.82222e+03\n",
      "  1.31000e+00]\n",
      " [5.00000e+01 2.50000e-01 4.50000e-01 ... 1.79000e+02 4.48333e+03\n",
      "  2.00000e+00]\n",
      " [5.00000e+01 2.00000e-01 6.00000e-01 ... 1.54000e+02 3.16667e+03\n",
      "  3.26000e+00]\n",
      " ...\n",
      " [1.10000e+02 1.50000e-01 6.00000e-01 ... 1.49000e+02 8.20000e+03\n",
      "  2.00000e+00]\n",
      " [1.10000e+02 1.50000e-01 4.50000e-01 ... 1.57000e+02 4.04444e+03\n",
      "  1.51800e+00]\n",
      " [1.10000e+02 2.50000e-01 6.00000e-01 ... 1.79000e+02 2.82667e+03\n",
      "  1.80000e+00]]\n"
     ]
    }
   ],
   "source": [
    "A = np.array(d.iloc[:,:-3])\n",
    "print(A)"
   ]
  },
  {
   "cell_type": "code",
   "execution_count": 20,
   "metadata": {},
   "outputs": [
    {
     "name": "stdout",
     "output_type": "stream",
     "text": [
      "0      8.827942\n",
      "1      8.408124\n",
      "2      8.060439\n",
      "3      8.396909\n",
      "4      9.011891\n",
      "         ...   \n",
      "814    8.060439\n",
      "815    8.060439\n",
      "816    9.011891\n",
      "817    8.305101\n",
      "818    7.946858\n",
      "Name: Beta_log, Length: 819, dtype: float64\n",
      "\n",
      " Beta_Log\n",
      "\n",
      "---------------------------------------------------------------------------------------------------------------\n",
      "\n",
      "0      7.659850\n",
      "1      8.170673\n",
      "2      8.794826\n",
      "3      8.553665\n",
      "4      7.477529\n",
      "         ...   \n",
      "814    7.659850\n",
      "815    8.083662\n",
      "816    7.477529\n",
      "817    7.408537\n",
      "818    8.758459\n",
      "Name: MRR_log, Length: 819, dtype: float64\n",
      "\n",
      " MRR_log\n"
     ]
    }
   ],
   "source": [
    "print(d['Beta_log'])\n",
    "print(\"\\n Beta_Log\")\n",
    "print(\"\\n---------------------------------------------------------------------------------------------------------------\\n\")\n",
    "print(d['MRR_log'])\n",
    "print(\"\\n MRR_log\")"
   ]
  },
  {
   "cell_type": "markdown",
   "metadata": {},
   "source": [
    "### Representing scaled data as actual data for operation in dependent variable (B)\n",
    "Since the data is scaled, it is ready to be operated on, hence it is declared in scaled for in dependent variable for the purpose of achieving greater accuracy."
   ]
  },
  {
   "cell_type": "code",
   "execution_count": 21,
   "metadata": {},
   "outputs": [
    {
     "name": "stdout",
     "output_type": "stream",
     "text": [
      "[[1.31       8.82794168 7.65984971]\n",
      " [2.         8.40812358 8.17067345]\n",
      " [3.26       8.060439   8.79482644]\n",
      " ...\n",
      " [2.         9.01189065 7.47752909]\n",
      " [1.518      8.30510085 7.40853663]\n",
      " [1.8        7.94685816 8.75845885]]\n"
     ]
    }
   ],
   "source": [
    "B = np.array(d.iloc[:,[-4,-2,-1]])\n",
    "print(B)"
   ]
  },
  {
   "cell_type": "markdown",
   "metadata": {},
   "source": [
    "## <font color='blue'>Regression without Optimization for Dataset 2</font>"
   ]
  },
  {
   "cell_type": "code",
   "execution_count": 22,
   "metadata": {},
   "outputs": [],
   "source": [
    "A_train,A_test,B_train,B_test=train_test_split(A,B,test_size=0.20,random_state=0)"
   ]
  },
  {
   "cell_type": "code",
   "execution_count": 27,
   "metadata": {},
   "outputs": [
    {
     "data": {
      "text/plain": [
       "RandomForestRegressor(bootstrap='True', criterion='mae', max_depth=3931,\n",
       "                      max_leaf_nodes=3819, n_estimators=371)"
      ]
     },
     "execution_count": 27,
     "metadata": {},
     "output_type": "execute_result"
    }
   ],
   "source": [
    "model2 =  RandomForestRegressor(criterion = 'mae' ,bootstrap = 'True', max_depth = 3931, max_features = 'auto', max_leaf_nodes = 3819, n_estimators = 371)\n",
    "model2.fit(A_train,B_train)"
   ]
  },
  {
   "cell_type": "code",
   "execution_count": 28,
   "metadata": {},
   "outputs": [],
   "source": [
    "B_pred = model2.predict(A_test)"
   ]
  },
  {
   "cell_type": "code",
   "execution_count": 29,
   "metadata": {},
   "outputs": [
    {
     "data": {
      "text/html": [
       "<div>\n",
       "<style scoped>\n",
       "    .dataframe tbody tr th:only-of-type {\n",
       "        vertical-align: middle;\n",
       "    }\n",
       "\n",
       "    .dataframe tbody tr th {\n",
       "        vertical-align: top;\n",
       "    }\n",
       "\n",
       "    .dataframe thead th {\n",
       "        text-align: right;\n",
       "    }\n",
       "</style>\n",
       "<table border=\"1\" class=\"dataframe\">\n",
       "  <thead>\n",
       "    <tr style=\"text-align: right;\">\n",
       "      <th></th>\n",
       "      <th>Actual</th>\n",
       "      <th>Predicted</th>\n",
       "    </tr>\n",
       "  </thead>\n",
       "  <tbody>\n",
       "    <tr>\n",
       "      <th>0</th>\n",
       "      <td>[[1.518, 8.684590601751784, 7.477529093315083]...</td>\n",
       "      <td>[[1.54306738544474, 8.765751396969138, 7.99460...</td>\n",
       "    </tr>\n",
       "  </tbody>\n",
       "</table>\n",
       "</div>"
      ],
      "text/plain": [
       "                                              Actual  \\\n",
       "0  [[1.518, 8.684590601751784, 7.477529093315083]...   \n",
       "\n",
       "                                           Predicted  \n",
       "0  [[1.54306738544474, 8.765751396969138, 7.99460...  "
      ]
     },
     "execution_count": 29,
     "metadata": {},
     "output_type": "execute_result"
    }
   ],
   "source": [
    "df=pd.DataFrame({'Actual':[B_test], 'Predicted':[B_pred]})\n",
    "df"
   ]
  },
  {
   "cell_type": "code",
   "execution_count": 30,
   "metadata": {},
   "outputs": [],
   "source": [
    "MAE2 = metrics.mean_absolute_error(B_test, B_pred)\n",
    "MSE2 = metrics.mean_squared_error(B_test, B_pred)\n",
    "RMSE2 = np.sqrt(metrics.mean_squared_error(B_test, B_pred))"
   ]
  },
  {
   "cell_type": "markdown",
   "metadata": {},
   "source": [
    "### Accuracy and Mean absolute Error (without Optimization)"
   ]
  },
  {
   "cell_type": "code",
   "execution_count": 31,
   "metadata": {},
   "outputs": [
    {
     "name": "stdout",
     "output_type": "stream",
     "text": [
      "96.90096334702658\n"
     ]
    }
   ],
   "source": [
    "errors2 = abs(B_pred - B_test)\n",
    "mape2 = 100 * (errors2 / B_test)\n",
    "accuracy2 = 100 - np.mean(mape2)\n",
    "print(accuracy2)"
   ]
  },
  {
   "cell_type": "markdown",
   "metadata": {},
   "source": [
    "## <font color='blue'>Hyperparameter Optimization Using Optuna Algorithm for Dataset 2</font>\n"
   ]
  },
  {
   "cell_type": "code",
   "execution_count": 148,
   "metadata": {},
   "outputs": [],
   "source": [
    "def objective(trial):\n",
    "    criterion = trial.suggest_categorical('criterion', ['mse', 'mae'])\n",
    "    bootstrap = trial.suggest_categorical('bootstrap',['True','False'])\n",
    "    max_depth = trial.suggest_int('max_depth', 1, 10000)\n",
    "    max_features = trial.suggest_categorical('max_features', ['auto', 'sqrt','log2'])\n",
    "    max_leaf_nodes = trial.suggest_int('max_leaf_nodes', 1, 10000)\n",
    "    n_estimators =  trial.suggest_int('n_estimators', 30, 1000)\n",
    "    model2 = RandomForestRegressor(bootstrap = bootstrap, criterion = criterion,\n",
    "                                 max_depth = max_depth, max_features = max_features,\n",
    "                                 max_leaf_nodes = max_leaf_nodes,n_estimators = n_estimators,n_jobs=2)\n",
    "    score = cross_val_score(model2, A_train, B_train, cv=5, scoring=\"r2\")\n",
    "    r2_mean = score.mean()\n",
    "    return r2_mean"
   ]
  },
  {
   "cell_type": "markdown",
   "metadata": {},
   "source": [
    "### Splitting of Test and Train Dataset\n",
    "- Proportion of Test:Train data = 20:80\n",
    "\n",
    "- Initialising the Variables such as A_test, A_train, B_test, B_train\n",
    "\n",
    "- These Values are useful later for making predictions and giving accuracy"
   ]
  },
  {
   "cell_type": "code",
   "execution_count": 149,
   "metadata": {},
   "outputs": [],
   "source": [
    "A_train,A_test,B_train,B_test=train_test_split(A,B,test_size=0.20,random_state=0)"
   ]
  },
  {
   "cell_type": "markdown",
   "metadata": {},
   "source": [
    "### Actual Hyperparameter Optimization Cell\n",
    "- Based on Number of Trials (1000 here), using several different combination of parameters, the below Optimization\n",
    "  algorithm tests and predicts the best possible parameters for the used Regression Model in order to yield Maximum\n",
    "  accuracy.\n",
    "- Takes 1000 iterations/ trials to figure out best set of parameters for our Regression Model\n",
    "- n_trials is directly proportional to the accuracy of the model."
   ]
  },
  {
   "cell_type": "code",
   "execution_count": 150,
   "metadata": {},
   "outputs": [
    {
     "name": "stderr",
     "output_type": "stream",
     "text": [
      "\u001b[32m[I 2021-05-08 21:58:27,864]\u001b[0m A new study created in memory with name: no-name-3b6c8c13-b489-4f4f-a398-dc18a6a530e5\u001b[0m\n",
      "\u001b[32m[I 2021-05-08 21:58:35,079]\u001b[0m Trial 0 finished with value: 0.6044723719886813 and parameters: {'criterion': 'mse', 'bootstrap': 'True', 'max_depth': 8135, 'max_features': 'sqrt', 'max_leaf_nodes': 4105, 'n_estimators': 895}. Best is trial 0 with value: 0.6044723719886813.\u001b[0m\n",
      "\u001b[32m[I 2021-05-08 21:58:37,545]\u001b[0m Trial 1 finished with value: 0.6144715145937363 and parameters: {'criterion': 'mae', 'bootstrap': 'False', 'max_depth': 3947, 'max_features': 'auto', 'max_leaf_nodes': 6188, 'n_estimators': 49}. Best is trial 1 with value: 0.6144715145937363.\u001b[0m\n",
      "\u001b[32m[I 2021-05-08 21:58:39,438]\u001b[0m Trial 2 finished with value: 0.6014333199161054 and parameters: {'criterion': 'mse', 'bootstrap': 'True', 'max_depth': 2607, 'max_features': 'sqrt', 'max_leaf_nodes': 2643, 'n_estimators': 272}. Best is trial 1 with value: 0.6144715145937363.\u001b[0m\n",
      "\u001b[32m[I 2021-05-08 21:58:45,301]\u001b[0m Trial 3 finished with value: 0.6021842691899114 and parameters: {'criterion': 'mse', 'bootstrap': 'True', 'max_depth': 513, 'max_features': 'log2', 'max_leaf_nodes': 2718, 'n_estimators': 823}. Best is trial 1 with value: 0.6144715145937363.\u001b[0m\n",
      "\u001b[32m[I 2021-05-08 21:59:00,495]\u001b[0m Trial 4 finished with value: 0.6222536372894039 and parameters: {'criterion': 'mae', 'bootstrap': 'True', 'max_depth': 4610, 'max_features': 'auto', 'max_leaf_nodes': 1929, 'n_estimators': 314}. Best is trial 4 with value: 0.6222536372894039.\u001b[0m\n",
      "\u001b[32m[I 2021-05-08 21:59:28,888]\u001b[0m Trial 5 finished with value: 0.623183807977058 and parameters: {'criterion': 'mae', 'bootstrap': 'False', 'max_depth': 1835, 'max_features': 'auto', 'max_leaf_nodes': 1114, 'n_estimators': 592}. Best is trial 5 with value: 0.623183807977058.\u001b[0m\n",
      "\u001b[32m[I 2021-05-08 21:59:34,748]\u001b[0m Trial 6 finished with value: 0.5996181789903854 and parameters: {'criterion': 'mae', 'bootstrap': 'True', 'max_depth': 903, 'max_features': 'log2', 'max_leaf_nodes': 6757, 'n_estimators': 233}. Best is trial 5 with value: 0.623183807977058.\u001b[0m\n",
      "\u001b[32m[I 2021-05-08 21:59:38,606]\u001b[0m Trial 7 finished with value: 0.6027947938188081 and parameters: {'criterion': 'mse', 'bootstrap': 'True', 'max_depth': 1030, 'max_features': 'sqrt', 'max_leaf_nodes': 1242, 'n_estimators': 584}. Best is trial 5 with value: 0.623183807977058.\u001b[0m\n",
      "\u001b[32m[I 2021-05-08 21:59:41,055]\u001b[0m Trial 8 finished with value: 0.6006568161620126 and parameters: {'criterion': 'mse', 'bootstrap': 'False', 'max_depth': 9656, 'max_features': 'log2', 'max_leaf_nodes': 7123, 'n_estimators': 374}. Best is trial 5 with value: 0.623183807977058.\u001b[0m\n",
      "\u001b[32m[I 2021-05-08 21:59:42,409]\u001b[0m Trial 9 finished with value: 0.6034234875698726 and parameters: {'criterion': 'mse', 'bootstrap': 'False', 'max_depth': 9038, 'max_features': 'log2', 'max_leaf_nodes': 1354, 'n_estimators': 198}. Best is trial 5 with value: 0.623183807977058.\u001b[0m\n"
     ]
    },
    {
     "data": {
      "text/plain": [
       "RandomForestRegressor(bootstrap='False', criterion='mae', max_depth=1835,\n",
       "                      max_leaf_nodes=1114, n_estimators=592, n_jobs=2)"
      ]
     },
     "execution_count": 150,
     "metadata": {},
     "output_type": "execute_result"
    }
   ],
   "source": [
    "study = optuna.create_study(direction='maximize')\n",
    "study.optimize(objective, n_trials=10)\n",
    "optimised_model2 = RandomForestRegressor(bootstrap = study.best_params['bootstrap'], criterion = study.best_params['criterion'],\n",
    "                                     max_depth = study.best_params['max_depth'], max_features = study.best_params['max_features'],\n",
    "                                     max_leaf_nodes = study.best_params['max_leaf_nodes'],n_estimators = study.best_params['n_estimators'],\n",
    "                                     n_jobs=2)\n",
    "optimised_model2.fit(A_train ,B_train)"
   ]
  },
  {
   "cell_type": "markdown",
   "metadata": {},
   "source": [
    "### Prediction for Model with Optimized Parameters\n",
    "Initialising the Regression model with tuned set of parameters as predicted by Optuna optimization algorithm"
   ]
  },
  {
   "cell_type": "code",
   "execution_count": 151,
   "metadata": {},
   "outputs": [],
   "source": [
    "B_pred = optimised_model2.predict(A_test)"
   ]
  },
  {
   "cell_type": "markdown",
   "metadata": {},
   "source": [
    "### Plotting the Data in Statistical Format (Actual v/s Predicted)"
   ]
  },
  {
   "cell_type": "code",
   "execution_count": 152,
   "metadata": {},
   "outputs": [
    {
     "data": {
      "text/html": [
       "<div>\n",
       "<style scoped>\n",
       "    .dataframe tbody tr th:only-of-type {\n",
       "        vertical-align: middle;\n",
       "    }\n",
       "\n",
       "    .dataframe tbody tr th {\n",
       "        vertical-align: top;\n",
       "    }\n",
       "\n",
       "    .dataframe thead th {\n",
       "        text-align: right;\n",
       "    }\n",
       "</style>\n",
       "<table border=\"1\" class=\"dataframe\">\n",
       "  <thead>\n",
       "    <tr style=\"text-align: right;\">\n",
       "      <th></th>\n",
       "      <th>Actual</th>\n",
       "      <th>Predicted</th>\n",
       "    </tr>\n",
       "  </thead>\n",
       "  <tbody>\n",
       "    <tr>\n",
       "      <th>0</th>\n",
       "      <td>[[1.518, 8.684590601751784, 7.477529093315083]...</td>\n",
       "      <td>[[1.545712837837839, 8.768620172159634, 7.9216...</td>\n",
       "    </tr>\n",
       "  </tbody>\n",
       "</table>\n",
       "</div>"
      ],
      "text/plain": [
       "                                              Actual  \\\n",
       "0  [[1.518, 8.684590601751784, 7.477529093315083]...   \n",
       "\n",
       "                                           Predicted  \n",
       "0  [[1.545712837837839, 8.768620172159634, 7.9216...  "
      ]
     },
     "execution_count": 152,
     "metadata": {},
     "output_type": "execute_result"
    }
   ],
   "source": [
    "d=pd.DataFrame({'Actual':[B_test], 'Predicted':[B_pred]})\n",
    "d"
   ]
  },
  {
   "cell_type": "markdown",
   "metadata": {},
   "source": [
    "### Prediction of Optimized MAE, MSE, RMSE"
   ]
  },
  {
   "cell_type": "code",
   "execution_count": 153,
   "metadata": {},
   "outputs": [],
   "source": [
    "MAE_opt2 = metrics.mean_absolute_error(B_test, B_pred)\n",
    "MSE_opt2 = metrics.mean_squared_error(B_test, B_pred)\n",
    "RMSE_opt2 = np.sqrt(metrics.mean_squared_error(B_test, B_pred))"
   ]
  },
  {
   "cell_type": "markdown",
   "metadata": {},
   "source": [
    "### Prediction of Percentage errors(Mean Absolute Percentage Error) and Accuracy"
   ]
  },
  {
   "cell_type": "code",
   "execution_count": 155,
   "metadata": {},
   "outputs": [
    {
     "name": "stdout",
     "output_type": "stream",
     "text": [
      "Mean Absolute Error: 0.21\n",
      "Accuracy: 96.92\n"
     ]
    }
   ],
   "source": [
    "errors_opt2 = abs(B_pred - B_test)\n",
    "print('Mean Absolute Error:', round(np.mean(errors_opt2), 2))\n",
    "mape_opt2 = 100 * (errors_opt2 / B_test)\n",
    "accuracy_opt2 = 100 - np.mean(mape_opt2)\n",
    "print('Accuracy:', round(accuracy_opt2, 2))"
   ]
  },
  {
   "cell_type": "markdown",
   "metadata": {},
   "source": [
    "# Dataset Number 3"
   ]
  },
  {
   "cell_type": "code",
   "execution_count": 2,
   "metadata": {},
   "outputs": [
    {
     "name": "stdout",
     "output_type": "stream",
     "text": [
      "     Speed   Feed   Depth -mm    Tl  Tl650  Tl900     Tw  Tw650  Tw900  Temp0  \\\n",
      "0        50   0.25       0.30  25.3  43.34  41.56  0.388  0.299  0.297    213   \n",
      "1        50   0.15       0.15  26.0  40.80  26.88  0.394  0.299  0.292    184   \n",
      "2        50   0.10       0.30  31.0  23.65  34.23  0.288  0.287  0.286    229   \n",
      "3        50   0.25       0.45  26.0  40.18  34.20  0.371  0.288  0.315    221   \n",
      "4        50   0.20       0.60  25.3  31.30  27.30  0.292  0.324  0.261    222   \n",
      "..      ...    ...        ...   ...    ...    ...    ...    ...    ...    ...   \n",
      "814     110   0.20       0.15  20.0  40.20  39.20  0.352  0.272  0.278    187   \n",
      "815     110   0.15       0.15  29.0  26.87  45.40  0.296  0.272  0.281    273   \n",
      "816     110   0.20       0.15  21.5  26.87  35.06  0.302  0.267  0.282    273   \n",
      "817     110   0.20       0.30  24.0  37.40  34.20  0.390  0.290  0.315    238   \n",
      "818     110   0.10       0.30  26.0  37.40  35.87  0.394  0.269  0.282    279   \n",
      "\n",
      "     Temp650  Temp900  \n",
      "0      237.0      211  \n",
      "1      205.0      211  \n",
      "2      162.0      186  \n",
      "3      191.0      186  \n",
      "4      202.0      171  \n",
      "..       ...      ...  \n",
      "814    240.0      184  \n",
      "815    177.0      156  \n",
      "816    196.0      155  \n",
      "817    177.0      151  \n",
      "818    160.3      155  \n",
      "\n",
      "[819 rows x 12 columns]\n"
     ]
    }
   ],
   "source": [
    "b = pd.read_csv('Table9.csv', header= 0,encoding= 'unicode_escape')\n",
    "print(b)"
   ]
  },
  {
   "cell_type": "code",
   "execution_count": 3,
   "metadata": {},
   "outputs": [
    {
     "name": "stdout",
     "output_type": "stream",
     "text": [
      "<class 'pandas.core.frame.DataFrame'>\n",
      "RangeIndex: 819 entries, 0 to 818\n",
      "Data columns (total 12 columns):\n",
      " #   Column     Non-Null Count  Dtype  \n",
      "---  ------     --------------  -----  \n",
      " 0   Speed      819 non-null    int64  \n",
      " 1   Feed       819 non-null    float64\n",
      " 2   Depth -mm  819 non-null    float64\n",
      " 3   Tl         819 non-null    float64\n",
      " 4   Tl650      819 non-null    float64\n",
      " 5   Tl900      819 non-null    float64\n",
      " 6   Tw         819 non-null    float64\n",
      " 7   Tw650      819 non-null    float64\n",
      " 8   Tw900      819 non-null    float64\n",
      " 9   Temp0      819 non-null    int64  \n",
      " 10  Temp650    819 non-null    float64\n",
      " 11  Temp900    819 non-null    int64  \n",
      "dtypes: float64(9), int64(3)\n",
      "memory usage: 76.9 KB\n"
     ]
    }
   ],
   "source": [
    "b.info()"
   ]
  },
  {
   "cell_type": "code",
   "execution_count": 4,
   "metadata": {},
   "outputs": [
    {
     "data": {
      "text/html": [
       "<div>\n",
       "<style scoped>\n",
       "    .dataframe tbody tr th:only-of-type {\n",
       "        vertical-align: middle;\n",
       "    }\n",
       "\n",
       "    .dataframe tbody tr th {\n",
       "        vertical-align: top;\n",
       "    }\n",
       "\n",
       "    .dataframe thead th {\n",
       "        text-align: right;\n",
       "    }\n",
       "</style>\n",
       "<table border=\"1\" class=\"dataframe\">\n",
       "  <thead>\n",
       "    <tr style=\"text-align: right;\">\n",
       "      <th></th>\n",
       "      <th>Speed</th>\n",
       "      <th>Feed</th>\n",
       "      <th>Depth -mm</th>\n",
       "      <th>Tl</th>\n",
       "      <th>Tl650</th>\n",
       "      <th>Tl900</th>\n",
       "      <th>Tw</th>\n",
       "      <th>Tw650</th>\n",
       "      <th>Tw900</th>\n",
       "      <th>Temp0</th>\n",
       "      <th>Temp650</th>\n",
       "      <th>Temp900</th>\n",
       "    </tr>\n",
       "  </thead>\n",
       "  <tbody>\n",
       "    <tr>\n",
       "      <th>count</th>\n",
       "      <td>819.000000</td>\n",
       "      <td>819.000000</td>\n",
       "      <td>819.000000</td>\n",
       "      <td>819.000000</td>\n",
       "      <td>819.000000</td>\n",
       "      <td>819.000000</td>\n",
       "      <td>819.000000</td>\n",
       "      <td>819.000000</td>\n",
       "      <td>819.000000</td>\n",
       "      <td>819.000000</td>\n",
       "      <td>819.000000</td>\n",
       "      <td>819.000000</td>\n",
       "    </tr>\n",
       "    <tr>\n",
       "      <th>mean</th>\n",
       "      <td>80.183150</td>\n",
       "      <td>0.173443</td>\n",
       "      <td>0.377289</td>\n",
       "      <td>25.445629</td>\n",
       "      <td>31.531306</td>\n",
       "      <td>35.306325</td>\n",
       "      <td>0.347770</td>\n",
       "      <td>0.293523</td>\n",
       "      <td>0.283875</td>\n",
       "      <td>225.655678</td>\n",
       "      <td>190.882173</td>\n",
       "      <td>185.197802</td>\n",
       "    </tr>\n",
       "    <tr>\n",
       "      <th>std</th>\n",
       "      <td>22.318886</td>\n",
       "      <td>0.055448</td>\n",
       "      <td>0.169342</td>\n",
       "      <td>6.008294</td>\n",
       "      <td>6.975741</td>\n",
       "      <td>6.880134</td>\n",
       "      <td>0.040289</td>\n",
       "      <td>0.020667</td>\n",
       "      <td>0.018459</td>\n",
       "      <td>28.426263</td>\n",
       "      <td>26.798840</td>\n",
       "      <td>25.047143</td>\n",
       "    </tr>\n",
       "    <tr>\n",
       "      <th>min</th>\n",
       "      <td>50.000000</td>\n",
       "      <td>0.100000</td>\n",
       "      <td>0.150000</td>\n",
       "      <td>17.900000</td>\n",
       "      <td>22.560000</td>\n",
       "      <td>26.880000</td>\n",
       "      <td>0.288000</td>\n",
       "      <td>0.267000</td>\n",
       "      <td>0.259000</td>\n",
       "      <td>184.000000</td>\n",
       "      <td>154.000000</td>\n",
       "      <td>151.000000</td>\n",
       "    </tr>\n",
       "    <tr>\n",
       "      <th>25%</th>\n",
       "      <td>70.000000</td>\n",
       "      <td>0.100000</td>\n",
       "      <td>0.150000</td>\n",
       "      <td>19.340000</td>\n",
       "      <td>25.000000</td>\n",
       "      <td>28.300000</td>\n",
       "      <td>0.296000</td>\n",
       "      <td>0.272000</td>\n",
       "      <td>0.264000</td>\n",
       "      <td>200.500000</td>\n",
       "      <td>162.000000</td>\n",
       "      <td>156.000000</td>\n",
       "    </tr>\n",
       "    <tr>\n",
       "      <th>50%</th>\n",
       "      <td>90.000000</td>\n",
       "      <td>0.150000</td>\n",
       "      <td>0.450000</td>\n",
       "      <td>25.300000</td>\n",
       "      <td>31.000000</td>\n",
       "      <td>34.230000</td>\n",
       "      <td>0.359000</td>\n",
       "      <td>0.290000</td>\n",
       "      <td>0.284000</td>\n",
       "      <td>224.000000</td>\n",
       "      <td>191.000000</td>\n",
       "      <td>184.000000</td>\n",
       "    </tr>\n",
       "    <tr>\n",
       "      <th>75%</th>\n",
       "      <td>110.000000</td>\n",
       "      <td>0.200000</td>\n",
       "      <td>0.600000</td>\n",
       "      <td>31.000000</td>\n",
       "      <td>40.180000</td>\n",
       "      <td>41.560000</td>\n",
       "      <td>0.388000</td>\n",
       "      <td>0.305000</td>\n",
       "      <td>0.297000</td>\n",
       "      <td>251.000000</td>\n",
       "      <td>205.000000</td>\n",
       "      <td>210.000000</td>\n",
       "    </tr>\n",
       "    <tr>\n",
       "      <th>max</th>\n",
       "      <td>110.000000</td>\n",
       "      <td>0.250000</td>\n",
       "      <td>0.600000</td>\n",
       "      <td>36.000000</td>\n",
       "      <td>43.340000</td>\n",
       "      <td>48.000000</td>\n",
       "      <td>0.408000</td>\n",
       "      <td>0.335000</td>\n",
       "      <td>0.315000</td>\n",
       "      <td>279.000000</td>\n",
       "      <td>240.000000</td>\n",
       "      <td>232.000000</td>\n",
       "    </tr>\n",
       "  </tbody>\n",
       "</table>\n",
       "</div>"
      ],
      "text/plain": [
       "           Speed        Feed    Depth -mm          Tl       Tl650       Tl900  \\\n",
       "count  819.000000  819.000000  819.000000  819.000000  819.000000  819.000000   \n",
       "mean    80.183150    0.173443    0.377289   25.445629   31.531306   35.306325   \n",
       "std     22.318886    0.055448    0.169342    6.008294    6.975741    6.880134   \n",
       "min     50.000000    0.100000    0.150000   17.900000   22.560000   26.880000   \n",
       "25%     70.000000    0.100000    0.150000   19.340000   25.000000   28.300000   \n",
       "50%     90.000000    0.150000    0.450000   25.300000   31.000000   34.230000   \n",
       "75%    110.000000    0.200000    0.600000   31.000000   40.180000   41.560000   \n",
       "max    110.000000    0.250000    0.600000   36.000000   43.340000   48.000000   \n",
       "\n",
       "               Tw       Tw650       Tw900       Temp0     Temp650     Temp900  \n",
       "count  819.000000  819.000000  819.000000  819.000000  819.000000  819.000000  \n",
       "mean     0.347770    0.293523    0.283875  225.655678  190.882173  185.197802  \n",
       "std      0.040289    0.020667    0.018459   28.426263   26.798840   25.047143  \n",
       "min      0.288000    0.267000    0.259000  184.000000  154.000000  151.000000  \n",
       "25%      0.296000    0.272000    0.264000  200.500000  162.000000  156.000000  \n",
       "50%      0.359000    0.290000    0.284000  224.000000  191.000000  184.000000  \n",
       "75%      0.388000    0.305000    0.297000  251.000000  205.000000  210.000000  \n",
       "max      0.408000    0.335000    0.315000  279.000000  240.000000  232.000000  "
      ]
     },
     "execution_count": 4,
     "metadata": {},
     "output_type": "execute_result"
    }
   ],
   "source": [
    "b.describe()"
   ]
  },
  {
   "cell_type": "markdown",
   "metadata": {},
   "source": [
    "### Scalling of features:\n",
    "1. Temperature (Temp)\n",
    "2. Tool Life (Tl)"
   ]
  },
  {
   "cell_type": "code",
   "execution_count": 5,
   "metadata": {},
   "outputs": [
    {
     "name": "stdout",
     "output_type": "stream",
     "text": [
      "0      5.361339\n",
      "1      5.214990\n",
      "2      5.433766\n",
      "3      5.398208\n",
      "4      5.402722\n",
      "         ...   \n",
      "814    5.231162\n",
      "815    5.609508\n",
      "816    5.609508\n",
      "817    5.472313\n",
      "818    5.631248\n",
      "Name: Temp0_log, Length: 819, dtype: float64\n",
      "\n",
      "---------------------------------------------------------------------------------------------------------\n",
      "\n",
      "0      3.231200\n",
      "1      3.258481\n",
      "2      3.434310\n",
      "3      3.258481\n",
      "4      3.231200\n",
      "         ...   \n",
      "814    2.996232\n",
      "815    3.367641\n",
      "816    3.068518\n",
      "817    3.178470\n",
      "818    3.258481\n",
      "Name: Tl_log, Length: 819, dtype: float64\n"
     ]
    }
   ],
   "source": [
    "b['Temp0_log'] = np.log(b.Temp0 + 0.01)\n",
    "b['Tl_log'] = np.log(b.Tl + 0.01)\n",
    "print(b['Temp0_log'])\n",
    "print('\\n---------------------------------------------------------------------------------------------------------\\n')\n",
    "print(b['Tl_log'])"
   ]
  },
  {
   "cell_type": "markdown",
   "metadata": {},
   "source": [
    "### Features: P: Independent and Q: Dependent\n",
    "P(Independent):\n",
    "1. Speed\n",
    "2. Feed\n",
    "3. Depth\n",
    "\n",
    "Q (Dependent)\n",
    "1. Tool Life\n",
    "2. Tool Wear\n",
    "3. Temperature"
   ]
  },
  {
   "cell_type": "code",
   "execution_count": 6,
   "metadata": {},
   "outputs": [
    {
     "name": "stdout",
     "output_type": "stream",
     "text": [
      "[[5.0e+01 2.5e-01 3.0e-01]\n",
      " [5.0e+01 1.5e-01 1.5e-01]\n",
      " [5.0e+01 1.0e-01 3.0e-01]\n",
      " ...\n",
      " [1.1e+02 2.0e-01 1.5e-01]\n",
      " [1.1e+02 2.0e-01 3.0e-01]\n",
      " [1.1e+02 1.0e-01 3.0e-01]]\n"
     ]
    }
   ],
   "source": [
    "P = np.array(b.iloc[:,:-11])\n",
    "print(P)"
   ]
  },
  {
   "cell_type": "code",
   "execution_count": 7,
   "metadata": {},
   "outputs": [
    {
     "name": "stdout",
     "output_type": "stream",
     "text": [
      "[[0.388      5.36133911 3.23119957]\n",
      " [0.394      5.2149901  3.25848108]\n",
      " [0.288      5.43376567 3.43430973]\n",
      " ...\n",
      " [0.302      5.60950842 3.06851794]\n",
      " [0.39       5.47231269 3.17847041]\n",
      " [0.394      5.63124762 3.25848108]]\n"
     ]
    }
   ],
   "source": [
    "Q = np.array(b.iloc[:,[-8,-2,-1]])\n",
    "print(Q)"
   ]
  },
  {
   "cell_type": "markdown",
   "metadata": {},
   "source": [
    "## <font color='blue'>Regression without Optimization for Dataset 3</font>"
   ]
  },
  {
   "cell_type": "code",
   "execution_count": 8,
   "metadata": {},
   "outputs": [],
   "source": [
    "P_train,P_test,Q_train,Q_test=train_test_split(P,Q,test_size=0.20,random_state=0)"
   ]
  },
  {
   "cell_type": "code",
   "execution_count": 9,
   "metadata": {},
   "outputs": [
    {
     "data": {
      "text/plain": [
       "RandomForestRegressor(random_state=42)"
      ]
     },
     "execution_count": 9,
     "metadata": {},
     "output_type": "execute_result"
    }
   ],
   "source": [
    "model3 =  RandomForestRegressor(n_estimators = 100, random_state = 42)\n",
    "model3.fit(P_train,Q_train)"
   ]
  },
  {
   "cell_type": "code",
   "execution_count": 10,
   "metadata": {},
   "outputs": [],
   "source": [
    "Q_pred = model3.predict(P_test)"
   ]
  },
  {
   "cell_type": "code",
   "execution_count": 11,
   "metadata": {},
   "outputs": [
    {
     "data": {
      "text/html": [
       "<div>\n",
       "<style scoped>\n",
       "    .dataframe tbody tr th:only-of-type {\n",
       "        vertical-align: middle;\n",
       "    }\n",
       "\n",
       "    .dataframe tbody tr th {\n",
       "        vertical-align: top;\n",
       "    }\n",
       "\n",
       "    .dataframe thead th {\n",
       "        text-align: right;\n",
       "    }\n",
       "</style>\n",
       "<table border=\"1\" class=\"dataframe\">\n",
       "  <thead>\n",
       "    <tr style=\"text-align: right;\">\n",
       "      <th></th>\n",
       "      <th>Actual</th>\n",
       "      <th>Predicted</th>\n",
       "    </tr>\n",
       "  </thead>\n",
       "  <tbody>\n",
       "    <tr>\n",
       "      <th>0</th>\n",
       "      <td>[[0.33399999999999996, 5.214990103958283, 3.58...</td>\n",
       "      <td>[[0.3475415872534329, 5.400290187056377, 3.170...</td>\n",
       "    </tr>\n",
       "  </tbody>\n",
       "</table>\n",
       "</div>"
      ],
      "text/plain": [
       "                                              Actual  \\\n",
       "0  [[0.33399999999999996, 5.214990103958283, 3.58...   \n",
       "\n",
       "                                           Predicted  \n",
       "0  [[0.3475415872534329, 5.400290187056377, 3.170...  "
      ]
     },
     "execution_count": 11,
     "metadata": {},
     "output_type": "execute_result"
    }
   ],
   "source": [
    "b=pd.DataFrame({'Actual':[Q_test], 'Predicted':[Q_pred]})\n",
    "b"
   ]
  },
  {
   "cell_type": "code",
   "execution_count": 12,
   "metadata": {},
   "outputs": [],
   "source": [
    "MAE3 = metrics.mean_absolute_error(Q_test, Q_pred)\n",
    "MSE3 = metrics.mean_squared_error(Q_test, Q_pred)\n",
    "RMSE3 = np.sqrt(metrics.mean_squared_error(Q_test, Q_pred))\n"
   ]
  },
  {
   "cell_type": "markdown",
   "metadata": {},
   "source": [
    "### Accuracy and Mean absolute Error (without Optimization)"
   ]
  },
  {
   "cell_type": "code",
   "execution_count": 13,
   "metadata": {},
   "outputs": [
    {
     "name": "stdout",
     "output_type": "stream",
     "text": [
      "93.29502861232007\n"
     ]
    }
   ],
   "source": [
    "errors3 = abs(Q_pred - Q_test)\n",
    "mape3 = 100 * (errors3 / Q_test)\n",
    "accuracy3 = 100 - np.mean(mape3)\n",
    "print(accuracy3)"
   ]
  },
  {
   "cell_type": "markdown",
   "metadata": {},
   "source": [
    "## <font color='blue'> Hyperparameter Optimization Tuning Using Optuna Algorithm for Dataset 3</font>"
   ]
  },
  {
   "cell_type": "code",
   "execution_count": 168,
   "metadata": {},
   "outputs": [],
   "source": [
    "def objective(trial):\n",
    "    criterion = trial.suggest_categorical('criterion', ['mse', 'mae'])\n",
    "    bootstrap = trial.suggest_categorical('bootstrap',['True','False'])\n",
    "    max_depth = trial.suggest_int('max_depth', 1, 10000)\n",
    "    max_features = trial.suggest_categorical('max_features', ['auto', 'sqrt','log2'])\n",
    "    max_leaf_nodes = trial.suggest_int('max_leaf_nodes', 1, 10000)\n",
    "    n_estimators =  trial.suggest_int('n_estimators', 30, 1000)\n",
    "    model3 = RandomForestRegressor(bootstrap = bootstrap, criterion = criterion,\n",
    "                                 max_depth = max_depth, max_features = max_features,\n",
    "                                 max_leaf_nodes = max_leaf_nodes,n_estimators = n_estimators,n_jobs=2)\n",
    "    score = cross_val_score(model3, P_train, Q_train, cv=5, scoring=\"r2\")\n",
    "    r2_mean = score.mean()\n",
    "    return r2_mean"
   ]
  },
  {
   "cell_type": "markdown",
   "metadata": {},
   "source": [
    "### Splitting of Test and Train Dataset\n",
    "- Proportion of Test:Train data = 20:80\n",
    "\n",
    "- Initialising the Variables such as P_test, P_train, Q_test, Q_train\n",
    "\n",
    "- These Values are useful later for making predictions and giving accuracy"
   ]
  },
  {
   "cell_type": "code",
   "execution_count": 169,
   "metadata": {},
   "outputs": [],
   "source": [
    "P_train,P_test,Q_train,Q_test=train_test_split(P,Q,test_size=0.20,random_state=0)"
   ]
  },
  {
   "cell_type": "markdown",
   "metadata": {},
   "source": [
    "### Actual Hyperparameter Optimization Cell\n",
    "- Based on Number of Trials (1000 here), using several different combination of parameters, the below Optimization\n",
    "  algorithm tests and predicts the best possible parameters for the used Regression Model in order to yield Maximum\n",
    "  accuracy.\n",
    "- Takes 1000 iterations/ trials to figure out best set of parameters for our Regression Model\n",
    "- n_trials is directly proportional to the accuracy of the model."
   ]
  },
  {
   "cell_type": "code",
   "execution_count": 170,
   "metadata": {},
   "outputs": [
    {
     "name": "stderr",
     "output_type": "stream",
     "text": [
      "\u001b[32m[I 2021-05-08 22:01:04,254]\u001b[0m A new study created in memory with name: no-name-d1f67778-a851-46c5-a4b5-88b05cfcfb4e\u001b[0m\n",
      "\u001b[32m[I 2021-05-08 22:01:12,981]\u001b[0m Trial 0 finished with value: -0.14111222044176772 and parameters: {'criterion': 'mae', 'bootstrap': 'False', 'max_depth': 8479, 'max_features': 'sqrt', 'max_leaf_nodes': 6746, 'n_estimators': 726}. Best is trial 0 with value: -0.14111222044176772.\u001b[0m\n",
      "\u001b[32m[I 2021-05-08 22:01:14,295]\u001b[0m Trial 1 finished with value: -0.16012427105947893 and parameters: {'criterion': 'mse', 'bootstrap': 'False', 'max_depth': 8642, 'max_features': 'log2', 'max_leaf_nodes': 8357, 'n_estimators': 249}. Best is trial 0 with value: -0.14111222044176772.\u001b[0m\n",
      "\u001b[32m[I 2021-05-08 22:01:28,535]\u001b[0m Trial 2 finished with value: -0.18684657406847238 and parameters: {'criterion': 'mae', 'bootstrap': 'False', 'max_depth': 2707, 'max_features': 'auto', 'max_leaf_nodes': 1177, 'n_estimators': 783}. Best is trial 0 with value: -0.14111222044176772.\u001b[0m\n",
      "\u001b[32m[I 2021-05-08 22:01:29,985]\u001b[0m Trial 3 finished with value: -0.15571079847202432 and parameters: {'criterion': 'mae', 'bootstrap': 'True', 'max_depth': 8702, 'max_features': 'log2', 'max_leaf_nodes': 6028, 'n_estimators': 106}. Best is trial 0 with value: -0.14111222044176772.\u001b[0m\n",
      "\u001b[32m[I 2021-05-08 22:01:33,690]\u001b[0m Trial 4 finished with value: -0.15822609111560418 and parameters: {'criterion': 'mse', 'bootstrap': 'False', 'max_depth': 7089, 'max_features': 'auto', 'max_leaf_nodes': 6057, 'n_estimators': 720}. Best is trial 0 with value: -0.14111222044176772.\u001b[0m\n",
      "\u001b[32m[I 2021-05-08 22:01:46,253]\u001b[0m Trial 5 finished with value: -0.18783434416784556 and parameters: {'criterion': 'mae', 'bootstrap': 'True', 'max_depth': 4608, 'max_features': 'auto', 'max_leaf_nodes': 338, 'n_estimators': 687}. Best is trial 0 with value: -0.14111222044176772.\u001b[0m\n",
      "\u001b[32m[I 2021-05-08 22:01:49,689]\u001b[0m Trial 6 finished with value: -0.18419998928969744 and parameters: {'criterion': 'mae', 'bootstrap': 'True', 'max_depth': 2692, 'max_features': 'auto', 'max_leaf_nodes': 1330, 'n_estimators': 188}. Best is trial 0 with value: -0.14111222044176772.\u001b[0m\n",
      "\u001b[32m[I 2021-05-08 22:01:50,380]\u001b[0m Trial 7 finished with value: -0.1465054533975685 and parameters: {'criterion': 'mae', 'bootstrap': 'False', 'max_depth': 409, 'max_features': 'log2', 'max_leaf_nodes': 5437, 'n_estimators': 50}. Best is trial 0 with value: -0.14111222044176772.\u001b[0m\n",
      "\u001b[32m[I 2021-05-08 22:01:58,973]\u001b[0m Trial 8 finished with value: -0.18687020014155573 and parameters: {'criterion': 'mae', 'bootstrap': 'True', 'max_depth': 4090, 'max_features': 'auto', 'max_leaf_nodes': 62, 'n_estimators': 462}. Best is trial 0 with value: -0.14111222044176772.\u001b[0m\n",
      "\u001b[32m[I 2021-05-08 22:02:08,752]\u001b[0m Trial 9 finished with value: -0.19101211817466632 and parameters: {'criterion': 'mae', 'bootstrap': 'True', 'max_depth': 3820, 'max_features': 'auto', 'max_leaf_nodes': 8075, 'n_estimators': 522}. Best is trial 0 with value: -0.14111222044176772.\u001b[0m\n"
     ]
    },
    {
     "data": {
      "text/plain": [
       "RandomForestRegressor(bootstrap='False', criterion='mae', max_depth=8479,\n",
       "                      max_features='sqrt', max_leaf_nodes=6746,\n",
       "                      n_estimators=726, n_jobs=2)"
      ]
     },
     "execution_count": 170,
     "metadata": {},
     "output_type": "execute_result"
    }
   ],
   "source": [
    "study = optuna.create_study(direction='maximize')\n",
    "study.optimize(objective, n_trials=10)\n",
    "optimised_model3 = RandomForestRegressor(bootstrap = study.best_params['bootstrap'], criterion = study.best_params['criterion'],\n",
    "                                     max_depth = study.best_params['max_depth'], max_features = study.best_params['max_features'],\n",
    "                                     max_leaf_nodes = study.best_params['max_leaf_nodes'],n_estimators = study.best_params['n_estimators'],\n",
    "                                     n_jobs=2)\n",
    "optimised_model3.fit(P_train ,Q_train)"
   ]
  },
  {
   "cell_type": "markdown",
   "metadata": {},
   "source": [
    "### Setting up Model with the best set of parameters returned by Optimization algorithm\n",
    "\n",
    "Further Steps:\n",
    "1. Making Predictions for Dependent Feature\n",
    "2. Statistically represent Data and calculate errors \n",
    "3. Based on errors/ MAE/ MAPE predict the maximum possible accuracy"
   ]
  },
  {
   "cell_type": "code",
   "execution_count": 171,
   "metadata": {},
   "outputs": [],
   "source": [
    "Q_pred = optimised_model3.predict(P_test)"
   ]
  },
  {
   "cell_type": "markdown",
   "metadata": {},
   "source": [
    "### Plotting data in statistical format (Actual v/s Predicted)"
   ]
  },
  {
   "cell_type": "code",
   "execution_count": 172,
   "metadata": {},
   "outputs": [
    {
     "data": {
      "text/html": [
       "<div>\n",
       "<style scoped>\n",
       "    .dataframe tbody tr th:only-of-type {\n",
       "        vertical-align: middle;\n",
       "    }\n",
       "\n",
       "    .dataframe tbody tr th {\n",
       "        vertical-align: top;\n",
       "    }\n",
       "\n",
       "    .dataframe thead th {\n",
       "        text-align: right;\n",
       "    }\n",
       "</style>\n",
       "<table border=\"1\" class=\"dataframe\">\n",
       "  <thead>\n",
       "    <tr style=\"text-align: right;\">\n",
       "      <th></th>\n",
       "      <th>Actual</th>\n",
       "      <th>Predicted</th>\n",
       "    </tr>\n",
       "  </thead>\n",
       "  <tbody>\n",
       "    <tr>\n",
       "      <th>0</th>\n",
       "      <td>[[0.33399999999999996, 5.214990103958283, 3.58...</td>\n",
       "      <td>[[0.3532190082644665, 5.415575090982122, 3.160...</td>\n",
       "    </tr>\n",
       "  </tbody>\n",
       "</table>\n",
       "</div>"
      ],
      "text/plain": [
       "                                              Actual  \\\n",
       "0  [[0.33399999999999996, 5.214990103958283, 3.58...   \n",
       "\n",
       "                                           Predicted  \n",
       "0  [[0.3532190082644665, 5.415575090982122, 3.160...  "
      ]
     },
     "execution_count": 172,
     "metadata": {},
     "output_type": "execute_result"
    }
   ],
   "source": [
    "b=pd.DataFrame({'Actual':[Q_test], 'Predicted':[Q_pred]})\n",
    "b"
   ]
  },
  {
   "cell_type": "markdown",
   "metadata": {},
   "source": [
    "### Prediction of Optimized MAE, MSE, RMS"
   ]
  },
  {
   "cell_type": "code",
   "execution_count": 173,
   "metadata": {},
   "outputs": [],
   "source": [
    "MAE_opt3 = metrics.mean_absolute_error(Q_test, Q_pred)\n",
    "MSE_opt3 = metrics.mean_squared_error(Q_test, Q_pred)\n",
    "RMSE_opt3 = np.sqrt(metrics.mean_squared_error(Q_test, Q_pred))"
   ]
  },
  {
   "cell_type": "markdown",
   "metadata": {},
   "source": [
    "### Prediction of Mean Absolute Error, Mean Absolute Percentage Error and Accuracy "
   ]
  },
  {
   "cell_type": "code",
   "execution_count": 175,
   "metadata": {},
   "outputs": [
    {
     "name": "stdout",
     "output_type": "stream",
     "text": [
      "Mean Absolute Error: 0.12\n",
      "Accuracy: 93.3\n"
     ]
    }
   ],
   "source": [
    "ti"
   ]
  },
  {
   "cell_type": "markdown",
   "metadata": {},
   "source": [
    "# <font color=\"green\">Final Report</font>"
   ]
  },
  {
   "cell_type": "code",
   "execution_count": 176,
   "metadata": {},
   "outputs": [],
   "source": [
    "import csv\n",
    "with open('Report.csv', 'w', newline='') as fp:\n",
    "    a = csv.writer(fp,delimiter=',')\n",
    "    data = [['Dataset No.','MSE','MAE','RMSE','Accuracy','Opt. MSE','Opt. MAE','Opt. RMSE','Opt Accuracy'],\n",
    "            ['1',MSE1,MAE1,RMSE1,accuracy1,MSE_opt1,MAE_opt1,RMSE_opt1,accuracy_opt1],\n",
    "            ['2',MSE2,MAE2,RMSE2,accuracy2,MSE_opt2,MAE_opt2,RMSE_opt2, accuracy_opt2],\n",
    "            ['3',MSE3,MAE3,RMSE3,accuracy3,MSE_opt3,MAE_opt3,RMSE_opt3,accuracy_opt3]]\n",
    "    a.writerows(data)"
   ]
  },
  {
   "cell_type": "code",
   "execution_count": 177,
   "metadata": {},
   "outputs": [
    {
     "data": {
      "text/html": [
       "<div>\n",
       "<style scoped>\n",
       "    .dataframe tbody tr th:only-of-type {\n",
       "        vertical-align: middle;\n",
       "    }\n",
       "\n",
       "    .dataframe tbody tr th {\n",
       "        vertical-align: top;\n",
       "    }\n",
       "\n",
       "    .dataframe thead th {\n",
       "        text-align: right;\n",
       "    }\n",
       "</style>\n",
       "<table border=\"1\" class=\"dataframe\">\n",
       "  <thead>\n",
       "    <tr style=\"text-align: right;\">\n",
       "      <th></th>\n",
       "      <th>Dataset No.</th>\n",
       "      <th>MSE</th>\n",
       "      <th>MAE</th>\n",
       "      <th>RMSE</th>\n",
       "      <th>Accuracy</th>\n",
       "      <th>Opt. MSE</th>\n",
       "      <th>Opt. MAE</th>\n",
       "      <th>Opt. RMSE</th>\n",
       "      <th>Opt Accuracy</th>\n",
       "    </tr>\n",
       "  </thead>\n",
       "  <tbody>\n",
       "    <tr>\n",
       "      <th>0</th>\n",
       "      <td>1</td>\n",
       "      <td>0.015224</td>\n",
       "      <td>0.063246</td>\n",
       "      <td>0.123385</td>\n",
       "      <td>96.779054</td>\n",
       "      <td>0.014896</td>\n",
       "      <td>0.059247</td>\n",
       "      <td>0.122047</td>\n",
       "      <td>96.950957</td>\n",
       "    </tr>\n",
       "    <tr>\n",
       "      <th>1</th>\n",
       "      <td>2</td>\n",
       "      <td>0.155466</td>\n",
       "      <td>0.217454</td>\n",
       "      <td>0.394292</td>\n",
       "      <td>96.619924</td>\n",
       "      <td>0.160289</td>\n",
       "      <td>0.209959</td>\n",
       "      <td>0.400361</td>\n",
       "      <td>96.919808</td>\n",
       "    </tr>\n",
       "    <tr>\n",
       "      <th>2</th>\n",
       "      <td>3</td>\n",
       "      <td>0.028907</td>\n",
       "      <td>0.124611</td>\n",
       "      <td>0.170019</td>\n",
       "      <td>93.295029</td>\n",
       "      <td>0.028980</td>\n",
       "      <td>0.124100</td>\n",
       "      <td>0.170234</td>\n",
       "      <td>93.302569</td>\n",
       "    </tr>\n",
       "  </tbody>\n",
       "</table>\n",
       "</div>"
      ],
      "text/plain": [
       "   Dataset No.       MSE       MAE      RMSE   Accuracy  Opt. MSE  Opt. MAE  \\\n",
       "0            1  0.015224  0.063246  0.123385  96.779054  0.014896  0.059247   \n",
       "1            2  0.155466  0.217454  0.394292  96.619924  0.160289  0.209959   \n",
       "2            3  0.028907  0.124611  0.170019  93.295029  0.028980  0.124100   \n",
       "\n",
       "   Opt. RMSE  Opt Accuracy  \n",
       "0   0.122047     96.950957  \n",
       "1   0.400361     96.919808  \n",
       "2   0.170234     93.302569  "
      ]
     },
     "execution_count": 177,
     "metadata": {},
     "output_type": "execute_result"
    }
   ],
   "source": [
    "rp = pd.read_csv('Report.csv')\n",
    "rp"
   ]
  }
 ],
 "metadata": {
  "kernelspec": {
   "display_name": "Python 3",
   "language": "python",
   "name": "python3"
  },
  "language_info": {
   "codemirror_mode": {
    "name": "ipython",
    "version": 3
   },
   "file_extension": ".py",
   "mimetype": "text/x-python",
   "name": "python",
   "nbconvert_exporter": "python",
   "pygments_lexer": "ipython3",
   "version": "3.8.5"
  }
 },
 "nbformat": 4,
 "nbformat_minor": 4
}
